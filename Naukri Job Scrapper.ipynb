{
 "cells": [
  {
   "cell_type": "markdown",
   "id": "cdb45042",
   "metadata": {},
   "source": [
    "## Data Scrapping Section "
   ]
  },
  {
   "cell_type": "code",
   "execution_count": 1,
   "id": "d1a9a311",
   "metadata": {},
   "outputs": [],
   "source": [
    "from time import sleep\n",
    "from fake_useragent import UserAgent\n",
    "from selenium import webdriver\n",
    "from selenium.webdriver.chrome.options import Options\n",
    "from webdriver_manager.chrome import ChromeDriverManager\n",
    "from selenium.webdriver.support.ui import WebDriverWait\n",
    "from selenium.webdriver.support import expected_conditions as EC\n",
    "from selenium.webdriver.common.by import By\n",
    "import csv\n",
    "import re\n",
    "import textwrap\n",
    "from selenium.webdriver.chrome.service import Service\n",
    "from time import sleep\n",
    "from contextlib import contextmanager"
   ]
  },
  {
   "cell_type": "code",
   "execution_count": 2,
   "id": "e98b43b2",
   "metadata": {},
   "outputs": [],
   "source": [
    "def create_options():\n",
    "    ua = \"Mozilla/5.0 (Windows NT 10.0; Win64; x64) AppleWebKit/537.36 (KHTML, like Gecko) Chrome/108.0.0.0 Safari/537.36\"\n",
    "    options = Options()\n",
    "    \n",
    "    options.add_argument(f\"user-agent={ua}\")\n",
    "    options.add_argument(\"--headless\")\n",
    "    options.add_argument(\"--disk-cache-dir=/dev/null\")\n",
    "    options.add_argument(\"--disk-cache-size=0\")\n",
    "    options.add_argument(\"--no-sandbox\")\n",
    "    options.add_argument(\"--no-zygote\")\n",
    "    options.add_argument(\"--disable-setuid-sandbox\")\n",
    "    options.add_argument(\"--disable-dev-shm-usage\")\n",
    "    options.add_argument(\"--start-maximized\")\n",
    "    options.add_argument(\"--disable-blink-features\")\n",
    "    options.add_argument(\"--disable-blink-features=AutomationControlled\")\n",
    "    \n",
    "    preferences = {\n",
    "        \"webrtc.ip_handling_policy\": \"disable_non_proxied_udp\",\n",
    "        \"webrtc.multiple_routes_enabled\": False,\n",
    "        \"webrtc.nonproxied_udp_enabled\": False,\n",
    "    }\n",
    "    \n",
    "    options.add_experimental_option(\"prefs\", preferences)\n",
    "    options.add_experimental_option(\"excludeSwitches\", [\"enable-automation\"])\n",
    "    options.add_experimental_option(\"useAutomationExtension\", False)\n",
    "\n",
    "    return options\n",
    "    "
   ]
  },
  {
   "cell_type": "markdown",
   "id": "3dcb35b7",
   "metadata": {},
   "source": [
    "#### Function to write to csv file "
   ]
  },
  {
   "cell_type": "code",
   "execution_count": 3,
   "id": "7bce7a5f",
   "metadata": {},
   "outputs": [],
   "source": [
    "## Provide directory path of chromeDriver use '/' instead of '\\' while giving the path\n",
    "\n",
    "def get_chromedriver():\n",
    "    service = Service(r'F:/My Laptop/Techeron//10. Resume job scrapper 27 Apr 2023/chromedriver.exe')  #f:/My Laptop/Techeron//10. Resume job scrapper 27 Apr 2023\n",
    "    driver = webdriver.Chrome(service=service,options=create_options())\n",
    "    return driver\n"
   ]
  },
  {
   "cell_type": "code",
   "execution_count": 4,
   "id": "f270a12b",
   "metadata": {},
   "outputs": [],
   "source": [
    "@contextmanager\n",
    "def open_csv_file(file_path, mode):\n",
    "    try:\n",
    "        f = open(file_path, mode, newline='', encoding='utf-8')\n",
    "        yield f\n",
    "    finally:\n",
    "        f.close()\n",
    "\n",
    "def write_adds(data):\n",
    "    fields = ['Title', 'Company', 'Location', 'Description', 'Date', 'Salary', 'Qualification']\n",
    "    file_path = f'naukri_data_{job_profile}.csv'\n",
    "    with open_csv_file(file_path, 'a') as f:\n",
    "        writer = csv.writer(f)\n",
    "        if f.tell() == 0:  # if file is empty then write the header\n",
    "            writer.writerow(fields)\n",
    "        for row in data:\n",
    "            writer.writerow(row)\n",
    "\n"
   ]
  },
  {
   "cell_type": "code",
   "execution_count": 5,
   "id": "bc39336a",
   "metadata": {},
   "outputs": [],
   "source": [
    "# Getting data from the website and retunring it in list\n",
    "def get_data_naukri():\n",
    "    print(f'Getting Data from')\n",
    "    driver = get_chromedriver()\n",
    "    datalist = []\n",
    "    linklist = []\n",
    "    global job_profile\n",
    "    job_profile = input(\"Enter the job profile you want to search:: \")\n",
    "    search_pages = int(input(\"Enter Number of pages you want to search::  \"))\n",
    "    driver.get(f'https://www.naukri.com/{job_profile}-jobs')\n",
    "\n",
    "    try:\n",
    "        WebDriverWait(driver, 30).until(EC.presence_of_all_elements_located((By.XPATH, '//*[@class = \"jobTupleHeader\"]')))\n",
    "    except:\n",
    "        pass\n",
    "\n",
    "    driver.find_element(By.XPATH, '//*[contains(@class, \"search-bar\")]/div').click()\n",
    "\n",
    "    driver.find_element(By.XPATH, '//input[@class = \"suggestor-input \"]').clear()\n",
    "    driver.find_element(By.XPATH, '//input[@class = \"suggestor-input \"]').send_keys(job_profile)\n",
    "    driver.find_element(By.XPATH, '//button[contains(@class , \"icon-wrapper\")]').click()\n",
    "    WebDriverWait(driver, 30).until(EC.presence_of_all_elements_located((By.XPATH, '//*[@class = \"jobTupleHeader\"]')))\n",
    "    \n",
    "    #getting links of all the jobs by visiting pagination\n",
    "    temp = 1\n",
    "    while True:\n",
    "        try:\n",
    "            WebDriverWait(driver, 30).until(EC.presence_of_all_elements_located((By.XPATH, '//*[@class = \"jobTupleHeader\"]')))\n",
    "        except:\n",
    "            pass\n",
    "        jobs = driver.find_elements(By.XPATH, '//*[@class = \"jobTupleHeader\"]')\n",
    "        for job in jobs:\n",
    "            link = job.find_element(By.XPATH, './/a').get_attribute('href')\n",
    "            linklist.append(link)\n",
    "\n",
    "        if(temp <= search_pages):  ## Restricting the number of pages using search_pages change here to decrease the execution time\n",
    "            sleep(3)\n",
    "            try:\n",
    "                driver.find_element(By.XPATH, '//a[@class=\"fright fs14 btn-secondary br2\"]').click() # Pagination \n",
    "            except:\n",
    "                break\n",
    "            temp += 1                   \n",
    "        else:\n",
    "            break\n",
    "        sleep(3)\n",
    "        \n",
    "\n",
    "        for link in linklist:\n",
    "            driver.get(link)\n",
    "            try:\n",
    "                WebDriverWait(driver, 10).until(EC.presence_of_all_elements_located((By.XPATH, '//*[@class = \"jd-header-title\"]')))\n",
    "            except:\n",
    "                continue\n",
    "            try:\n",
    "                title = driver.find_element(By.XPATH, '//h1[@class=\"jd-header-title\"] | //h1[@class=\"av-special-heading-tag \"]').text\n",
    "            except:\n",
    "                title = 'None'\n",
    "            try:\n",
    "                company = driver.find_element(By.XPATH,'//div[@class=\"f14 lh18 alignJ\"]//p | //div[@class=\"jd-header-comp-name\"]//a').text\n",
    "            except:\n",
    "                company = 'None'\n",
    "            try:\n",
    "                location = driver.find_element(By.XPATH, '//*[@class = \"loc\"]').text\n",
    "            except:\n",
    "                location = 'None'\n",
    "            try:\n",
    "                description = driver.find_element(By.XPATH, '//*[@class = \"dang-inner-html\"]').text\n",
    "            except:\n",
    "                description = 'None'\n",
    "            try:\n",
    "                date_divs = driver.find_elements(By.XPATH, '//div[contains(@class, \"jd-stats\")] | //div[contains(@class, \"sumFoot\")]')\n",
    "                date = [div.find_element(By.XPATH, './span').text for div in date_divs][0][7:]          \n",
    "            except:\n",
    "                date = 'None'\n",
    "            try:\n",
    "                salary_divs = driver.find_elements(By.XPATH, '//div[@class=\"salary\"] | //div[@class=\"slide-meta getSalaryRange\"]')\n",
    "                salary = [div.find_element(By.XPATH, './span').text for div in salary_divs][0]\n",
    "            except:\n",
    "                salary = 'None'\n",
    "            try:\n",
    "                qualification = driver.find_element(By.XPATH, '//*[@class = \"exp\"]')\n",
    "                if qualification.text.startswith('Key Skills:'):\n",
    "                    qualification = qualification.find_element(By.XPATH, './following-sibling::div').text\n",
    "                else:\n",
    "                    qualification = qualification.text\n",
    "            except:\n",
    "                qualification = 'None'\n",
    "            data = [title, company, location, description, date, salary, qualification]\n",
    "            datalist.append(data)\n",
    "            write_adds(datalist)\n",
    "            sleep(3)"
   ]
  },
  {
   "cell_type": "markdown",
   "id": "19b6320c",
   "metadata": {},
   "source": [
    "#### Main function "
   ]
  },
  {
   "cell_type": "code",
   "execution_count": 6,
   "id": "4639c8f6",
   "metadata": {},
   "outputs": [
    {
     "name": "stdout",
     "output_type": "stream",
     "text": [
      "Getting Data from\n",
      "Enter the job profile you want to search:: PHP Developer\n",
      "Enter Number of pages you want to search::  2\n"
     ]
    }
   ],
   "source": [
    "if __name__ == '__main__':\n",
    "    get_data_naukri()"
   ]
  },
  {
   "cell_type": "code",
   "execution_count": null,
   "id": "726e5de7",
   "metadata": {},
   "outputs": [],
   "source": []
  }
 ],
 "metadata": {
  "kernelspec": {
   "display_name": "Python 3 (ipykernel)",
   "language": "python",
   "name": "python3"
  },
  "language_info": {
   "codemirror_mode": {
    "name": "ipython",
    "version": 3
   },
   "file_extension": ".py",
   "mimetype": "text/x-python",
   "name": "python",
   "nbconvert_exporter": "python",
   "pygments_lexer": "ipython3",
   "version": "3.10.10"
  }
 },
 "nbformat": 4,
 "nbformat_minor": 5
}
